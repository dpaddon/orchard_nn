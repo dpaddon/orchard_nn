{
 "cells": [
  {
   "cell_type": "markdown",
   "metadata": {},
   "source": [
    "# Orchard's algorithm for fast nearest neighbour calculation"
   ]
  },
  {
   "cell_type": "markdown",
   "metadata": {},
   "source": [
    "### Imports"
   ]
  },
  {
   "cell_type": "code",
   "execution_count": 1,
   "metadata": {
    "ExecuteTime": {
     "end_time": "2019-05-16T20:08:56.842079Z",
     "start_time": "2019-05-16T20:08:55.944961Z"
    }
   },
   "outputs": [],
   "source": [
    "import numpy as np\n",
    "from random import random\n",
    "import matplotlib.pyplot as plt\n",
    "from mpl_toolkits.mplot3d import Axes3D\n",
    "from datetime import datetime\n",
    "import operator\n",
    "import functools\n",
    "\n",
    "from fast_nn import OrchardNN\n",
    "from sklearn.neighbors import NearestNeighbors"
   ]
  },
  {
   "cell_type": "markdown",
   "metadata": {},
   "source": [
    "### Utility functions"
   ]
  },
  {
   "cell_type": "code",
   "execution_count": 2,
   "metadata": {
    "ExecuteTime": {
     "end_time": "2019-05-16T20:08:56.849081Z",
     "start_time": "2019-05-16T20:08:56.844980Z"
    }
   },
   "outputs": [],
   "source": [
    "def random_point(dimensions=2):\n",
    "    return np.random.rand(dimensions)\n",
    "\n",
    "def dist(x, y, _norm=np.linalg.norm):\n",
    "    return _norm(x - y)\n"
   ]
  },
  {
   "cell_type": "markdown",
   "metadata": {},
   "source": [
    "## Testing"
   ]
  },
  {
   "cell_type": "markdown",
   "metadata": {},
   "source": [
    "### Create dummy data"
   ]
  },
  {
   "cell_type": "code",
   "execution_count": 3,
   "metadata": {
    "ExecuteTime": {
     "end_time": "2019-05-16T20:08:56.898216Z",
     "start_time": "2019-05-16T20:08:56.851519Z"
    }
   },
   "outputs": [],
   "source": [
    "# Create random points\n",
    "dimensions = 2\n",
    "num_candidates = 10000\n",
    "num_queries = 10000\n",
    "\n",
    "points = np.asarray([random_point(dimensions=dimensions) for n in range(num_candidates)])\n",
    "query_points = np.asarray([random_point(dimensions=dimensions) for n in range(num_queries)])\n",
    "\n",
    "query_point = query_points[0]"
   ]
  },
  {
   "cell_type": "markdown",
   "metadata": {},
   "source": [
    "### Initialise Orchard's method, and precompute distance pairs"
   ]
  },
  {
   "cell_type": "code",
   "execution_count": null,
   "metadata": {
    "ExecuteTime": {
     "start_time": "2019-05-16T20:08:55.951Z"
    }
   },
   "outputs": [],
   "source": [
    "start = datetime.now()\n",
    "orchard = OrchardNN(points, dist)\n",
    "end = datetime.now()\n",
    "print(\"pre-computation time: {}\".format(end - start))"
   ]
  },
  {
   "cell_type": "markdown",
   "metadata": {},
   "source": [
    "### Single query"
   ]
  },
  {
   "cell_type": "code",
   "execution_count": null,
   "metadata": {
    "ExecuteTime": {
     "start_time": "2019-05-16T20:08:55.953Z"
    }
   },
   "outputs": [],
   "source": [
    "# find nearest neighbour to query point\n",
    "start = datetime.now()\n",
    "single_neighbour = orchard.nearest_neighbour(query_point, verbose=False)\n",
    "end = datetime.now()\n",
    "print(\"Time for 1 query: {}\".format(end-start))"
   ]
  },
  {
   "cell_type": "markdown",
   "metadata": {},
   "source": [
    "### Plot results"
   ]
  },
  {
   "cell_type": "code",
   "execution_count": null,
   "metadata": {
    "ExecuteTime": {
     "start_time": "2019-05-16T20:08:55.955Z"
    }
   },
   "outputs": [],
   "source": [
    "fig = plt.figure(figsize=(20,20))\n",
    "\n",
    "if dimensions == 3:\n",
    "    ax = fig.add_subplot(111, projection='3d')\n",
    "    ax.scatter(points[:,0], points[:,1], points[:,2], c='b')\n",
    "    ax.scatter(single_neighbour[0], single_neighbour[1], single_neighbour[2], c='r', label='nearest neighbour')\n",
    "    ax.scatter(query_point[0], query_point[1], query_point[2], c='g', label='query')\n",
    "    ax.legend()\n",
    "else:\n",
    "    plt.scatter(points[:,0], points[:,1], c='b')\n",
    "    plt.scatter(single_neighbour[0], single_neighbour[1], c='r', label='nearest neighbour')\n",
    "    plt.scatter(query_point[0], query_point[1], c='g', label='query')\n",
    "    plt.legend()\n",
    "    \n",
    "plt.show()\n",
    "plt.close()"
   ]
  },
  {
   "cell_type": "code",
   "execution_count": null,
   "metadata": {
    "ExecuteTime": {
     "start_time": "2019-05-16T20:08:55.957Z"
    }
   },
   "outputs": [],
   "source": [
    "break"
   ]
  },
  {
   "cell_type": "markdown",
   "metadata": {},
   "source": [
    "### Initialise SKLearn KNN classifier"
   ]
  },
  {
   "cell_type": "code",
   "execution_count": null,
   "metadata": {
    "ExecuteTime": {
     "start_time": "2019-05-16T20:08:55.960Z"
    }
   },
   "outputs": [],
   "source": [
    "# Fit sklearn KNN classifier\n",
    "start = datetime.now()\n",
    "sk_knn = NearestNeighbors(n_neighbors=1, algorithm='brute', metric='euclidean')\n",
    "sk_knn.fit(points) \n",
    "end = datetime.now()\n",
    "print(\"Time to fit SKLearn KNN: {}\".format(end-start))"
   ]
  },
  {
   "cell_type": "markdown",
   "metadata": {},
   "source": [
    "### Single query"
   ]
  },
  {
   "cell_type": "code",
   "execution_count": null,
   "metadata": {
    "ExecuteTime": {
     "start_time": "2019-05-16T20:08:55.962Z"
    }
   },
   "outputs": [],
   "source": [
    "start = datetime.now()\n",
    "sk_neighbour_distance, sk_neighbour = sk_knn.kneighbors([query_point])\n",
    "sk_knn.fit(points) \n",
    "end = datetime.now()\n",
    "\n",
    "verbose = False\n",
    "\n",
    "if verbose:\n",
    "    print(\"Query point: {}\".format(query_point))\n",
    "    print(\"Nearest neighbour to query is point {}: {}\".format(sk_neighbour[0][0], orchard.candidates[sk_neighbour][0][0]))\n",
    "    print(\"Distance: {}\".format(sk_neighbour_distance[0]))\n",
    "print(\"Time for 1 query: {}\".format(end-start))\n"
   ]
  },
  {
   "cell_type": "markdown",
   "metadata": {},
   "source": [
    "## Compare for large number of queries"
   ]
  },
  {
   "cell_type": "markdown",
   "metadata": {},
   "source": [
    "### Orchard"
   ]
  },
  {
   "cell_type": "code",
   "execution_count": null,
   "metadata": {
    "ExecuteTime": {
     "start_time": "2019-05-16T20:08:55.965Z"
    }
   },
   "outputs": [],
   "source": [
    "orch_times = []\n",
    "\n",
    "for q in query_points:\n",
    "    start = datetime.now()\n",
    "    neighbour = orchard.nearest_neighbour(q, verbose=False)\n",
    "    end = datetime.now()\n",
    "    orch_times.append(end-start)\n",
    "print(\"Total time for {} queries: {}\".format(len(query_points), functools.reduce(operator.add, orch_times)))"
   ]
  },
  {
   "cell_type": "markdown",
   "metadata": {},
   "source": [
    "### SKLearn"
   ]
  },
  {
   "cell_type": "code",
   "execution_count": null,
   "metadata": {
    "ExecuteTime": {
     "start_time": "2019-05-16T20:08:55.967Z"
    }
   },
   "outputs": [],
   "source": [
    "sk_times = []\n",
    "\n",
    "for q in query_points:\n",
    "    start = datetime.now()\n",
    "    sk_neighbour_distance, sk_neighbour = sk_knn.kneighbors([q])\n",
    "    end = datetime.now()\n",
    "    sk_times.append(end-start)\n",
    "print(\"Total time for {} queries: {}\".format(len(query_points), functools.reduce(operator.add, sk_times)))"
   ]
  },
  {
   "cell_type": "code",
   "execution_count": null,
   "metadata": {},
   "outputs": [],
   "source": []
  }
 ],
 "metadata": {
  "kernelspec": {
   "display_name": "Python 3",
   "language": "python",
   "name": "python3"
  },
  "language_info": {
   "codemirror_mode": {
    "name": "ipython",
    "version": 3
   },
   "file_extension": ".py",
   "mimetype": "text/x-python",
   "name": "python",
   "nbconvert_exporter": "python",
   "pygments_lexer": "ipython3",
   "version": "3.6.8"
  }
 },
 "nbformat": 4,
 "nbformat_minor": 2
}
